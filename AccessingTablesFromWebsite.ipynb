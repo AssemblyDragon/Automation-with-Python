{
 "cells": [
  {
   "cell_type": "markdown",
   "id": "e0df0da1",
   "metadata": {},
   "source": [
    "# Accessing Tables from Websites"
   ]
  },
  {
   "cell_type": "markdown",
   "id": "62c063f3",
   "metadata": {},
   "source": [
    "1. Importing libraries"
   ]
  },
  {
   "cell_type": "code",
   "execution_count": 1,
   "id": "5904edfb",
   "metadata": {},
   "outputs": [],
   "source": [
    "import pandas as pd\n",
    "import lxml"
   ]
  },
  {
   "cell_type": "markdown",
   "id": "7932b4aa",
   "metadata": {},
   "source": [
    "2. Loading all tables from the url:-\n",
    "https://en.wikipedia.org/wiki/List_of_Naruto:_Shippuden_episodes"
   ]
  },
  {
   "cell_type": "code",
   "execution_count": 2,
   "id": "84d2c07c",
   "metadata": {},
   "outputs": [],
   "source": [
    "allTables = pd.read_html('https://en.wikipedia.org/wiki/List_of_Naruto:_Shippuden_episodes')"
   ]
  },
  {
   "cell_type": "markdown",
   "id": "be38a702",
   "metadata": {},
   "source": [
    "3. Fining how many tables were loaded"
   ]
  },
  {
   "cell_type": "code",
   "execution_count": 3,
   "id": "7ba72055",
   "metadata": {},
   "outputs": [
    {
     "name": "stdout",
     "output_type": "stream",
     "text": [
      "Tables Loaded : 66\n"
     ]
    }
   ],
   "source": [
    "print(\"Tables Loaded :\", len(allTables))"
   ]
  },
  {
   "cell_type": "markdown",
   "id": "3cfc5143",
   "metadata": {},
   "source": [
    "4. Accessing Table number 2 and storing in another variable"
   ]
  },
  {
   "cell_type": "code",
   "execution_count": 4,
   "id": "4efc7e0c",
   "metadata": {},
   "outputs": [
    {
     "data": {
      "text/html": [
       "<div>\n",
       "<style scoped>\n",
       "    .dataframe tbody tr th:only-of-type {\n",
       "        vertical-align: middle;\n",
       "    }\n",
       "\n",
       "    .dataframe tbody tr th {\n",
       "        vertical-align: top;\n",
       "    }\n",
       "\n",
       "    .dataframe thead th {\n",
       "        text-align: right;\n",
       "    }\n",
       "</style>\n",
       "<table border=\"1\" class=\"dataframe\">\n",
       "  <thead>\n",
       "    <tr style=\"text-align: right;\">\n",
       "      <th></th>\n",
       "      <th>No.</th>\n",
       "      <th>Title</th>\n",
       "      <th>Directed by</th>\n",
       "      <th>Written by</th>\n",
       "      <th>Original air date</th>\n",
       "      <th>English air date</th>\n",
       "    </tr>\n",
       "  </thead>\n",
       "  <tbody>\n",
       "    <tr>\n",
       "      <th>0</th>\n",
       "      <td>1</td>\n",
       "      <td>\"Homecoming\" Transcription: \"Kikyō\" (Japanese:...</td>\n",
       "      <td>Masaaki Kumagai</td>\n",
       "      <td>Satoru Nishizono</td>\n",
       "      <td>February 15, 2007</td>\n",
       "      <td>October 28, 2009[a][12]</td>\n",
       "    </tr>\n",
       "    <tr>\n",
       "      <th>1</th>\n",
       "      <td>2</td>\n",
       "      <td>\"The Akatsuki Makes Its Move\" Transcription: \"...</td>\n",
       "      <td>Atsushi Nigorikawa</td>\n",
       "      <td>Satoru Nishizono</td>\n",
       "      <td>February 15, 2007</td>\n",
       "      <td>October 28, 2009[12]</td>\n",
       "    </tr>\n",
       "    <tr>\n",
       "      <th>2</th>\n",
       "      <td>3</td>\n",
       "      <td>\"The Results of Training\" Transcription: \"Shug...</td>\n",
       "      <td>Yuki Sugihara</td>\n",
       "      <td>Satoru Nishizono</td>\n",
       "      <td>February 22, 2007</td>\n",
       "      <td>October 28, 2009[12]</td>\n",
       "    </tr>\n",
       "    <tr>\n",
       "      <th>3</th>\n",
       "      <td>4</td>\n",
       "      <td>\"The Jinchuriki of the Sand\" Transcription: \"S...</td>\n",
       "      <td>Kiyomu Fukuda</td>\n",
       "      <td>Satoru Nishizono</td>\n",
       "      <td>March 1, 2007</td>\n",
       "      <td>October 28, 2009[12]</td>\n",
       "    </tr>\n",
       "    <tr>\n",
       "      <th>4</th>\n",
       "      <td>5</td>\n",
       "      <td>\"The Kazekage Stands Tall\" Transcription: \"Kaz...</td>\n",
       "      <td>Yuki Kinoshita</td>\n",
       "      <td>Satoru Nishizono</td>\n",
       "      <td>March 15, 2007</td>\n",
       "      <td>November 4, 2009[13]</td>\n",
       "    </tr>\n",
       "  </tbody>\n",
       "</table>\n",
       "</div>"
      ],
      "text/plain": [
       "   No.                                              Title         Directed by  \\\n",
       "0    1  \"Homecoming\" Transcription: \"Kikyō\" (Japanese:...     Masaaki Kumagai   \n",
       "1    2  \"The Akatsuki Makes Its Move\" Transcription: \"...  Atsushi Nigorikawa   \n",
       "2    3  \"The Results of Training\" Transcription: \"Shug...       Yuki Sugihara   \n",
       "3    4  \"The Jinchuriki of the Sand\" Transcription: \"S...       Kiyomu Fukuda   \n",
       "4    5  \"The Kazekage Stands Tall\" Transcription: \"Kaz...      Yuki Kinoshita   \n",
       "\n",
       "         Written by  Original air date         English air date  \n",
       "0  Satoru Nishizono  February 15, 2007  October 28, 2009[a][12]  \n",
       "1  Satoru Nishizono  February 15, 2007     October 28, 2009[12]  \n",
       "2  Satoru Nishizono  February 22, 2007     October 28, 2009[12]  \n",
       "3  Satoru Nishizono      March 1, 2007     October 28, 2009[12]  \n",
       "4  Satoru Nishizono     March 15, 2007     November 4, 2009[13]  "
      ]
     },
     "execution_count": 4,
     "metadata": {},
     "output_type": "execute_result"
    }
   ],
   "source": [
    "season1 = allTables[2]\n",
    "season1.head()"
   ]
  },
  {
   "cell_type": "markdown",
   "id": "1b7b1a2a",
   "metadata": {},
   "source": [
    "5. Understanding the table"
   ]
  },
  {
   "cell_type": "code",
   "execution_count": 5,
   "id": "f55c9bda",
   "metadata": {},
   "outputs": [
    {
     "data": {
      "text/html": [
       "<div>\n",
       "<style scoped>\n",
       "    .dataframe tbody tr th:only-of-type {\n",
       "        vertical-align: middle;\n",
       "    }\n",
       "\n",
       "    .dataframe tbody tr th {\n",
       "        vertical-align: top;\n",
       "    }\n",
       "\n",
       "    .dataframe thead th {\n",
       "        text-align: right;\n",
       "    }\n",
       "</style>\n",
       "<table border=\"1\" class=\"dataframe\">\n",
       "  <thead>\n",
       "    <tr style=\"text-align: right;\">\n",
       "      <th></th>\n",
       "      <th>No.</th>\n",
       "      <th>Title</th>\n",
       "      <th>Directed by</th>\n",
       "      <th>Written by</th>\n",
       "      <th>Original air date</th>\n",
       "      <th>English air date</th>\n",
       "    </tr>\n",
       "  </thead>\n",
       "  <tbody>\n",
       "    <tr>\n",
       "      <th>27</th>\n",
       "      <td>28</td>\n",
       "      <td>\"Beasts: Alive Again!\" Transcription: \"Yomigae...</td>\n",
       "      <td>Kiyomu Fukuda</td>\n",
       "      <td>Satoru Nishizono</td>\n",
       "      <td>September 13, 2007</td>\n",
       "      <td>March 24, 2010[13]</td>\n",
       "    </tr>\n",
       "    <tr>\n",
       "      <th>28</th>\n",
       "      <td>29</td>\n",
       "      <td>\"Kakashi Enlightened!\" Transcription: \"Kakashi...</td>\n",
       "      <td>Yuki Kinoshita</td>\n",
       "      <td>Satoru Nishizono</td>\n",
       "      <td>September 27, 2007</td>\n",
       "      <td>March 31, 2010[13]</td>\n",
       "    </tr>\n",
       "    <tr>\n",
       "      <th>29</th>\n",
       "      <td>30</td>\n",
       "      <td>\"Aesthetics of an Instant\" Transcription: \"Shu...</td>\n",
       "      <td>Shigeharu Takahashi</td>\n",
       "      <td>Satoru Nishizono</td>\n",
       "      <td>September 27, 2007</td>\n",
       "      <td>April 7, 2010[13]</td>\n",
       "    </tr>\n",
       "    <tr>\n",
       "      <th>30</th>\n",
       "      <td>31</td>\n",
       "      <td>\"The Legacy\" Transcription: \"Tsugareyukumono\" ...</td>\n",
       "      <td>Shinji Satou</td>\n",
       "      <td>Satoru Nishizono</td>\n",
       "      <td>October 18, 2007</td>\n",
       "      <td>April 14, 2010[13]</td>\n",
       "    </tr>\n",
       "    <tr>\n",
       "      <th>31</th>\n",
       "      <td>32</td>\n",
       "      <td>\"Return of the Kazekage\" Transcription: \"Kazek...</td>\n",
       "      <td>Hiroshi Kimura</td>\n",
       "      <td>Satoru Nishizono</td>\n",
       "      <td>October 25, 2007</td>\n",
       "      <td>April 21, 2010[13]</td>\n",
       "    </tr>\n",
       "  </tbody>\n",
       "</table>\n",
       "</div>"
      ],
      "text/plain": [
       "    No.                                              Title  \\\n",
       "27   28  \"Beasts: Alive Again!\" Transcription: \"Yomigae...   \n",
       "28   29  \"Kakashi Enlightened!\" Transcription: \"Kakashi...   \n",
       "29   30  \"Aesthetics of an Instant\" Transcription: \"Shu...   \n",
       "30   31  \"The Legacy\" Transcription: \"Tsugareyukumono\" ...   \n",
       "31   32  \"Return of the Kazekage\" Transcription: \"Kazek...   \n",
       "\n",
       "            Directed by        Written by   Original air date  \\\n",
       "27        Kiyomu Fukuda  Satoru Nishizono  September 13, 2007   \n",
       "28       Yuki Kinoshita  Satoru Nishizono  September 27, 2007   \n",
       "29  Shigeharu Takahashi  Satoru Nishizono  September 27, 2007   \n",
       "30         Shinji Satou  Satoru Nishizono    October 18, 2007   \n",
       "31       Hiroshi Kimura  Satoru Nishizono    October 25, 2007   \n",
       "\n",
       "      English air date  \n",
       "27  March 24, 2010[13]  \n",
       "28  March 31, 2010[13]  \n",
       "29   April 7, 2010[13]  \n",
       "30  April 14, 2010[13]  \n",
       "31  April 21, 2010[13]  "
      ]
     },
     "execution_count": 5,
     "metadata": {},
     "output_type": "execute_result"
    }
   ],
   "source": [
    "season1.tail()"
   ]
  },
  {
   "cell_type": "code",
   "execution_count": 6,
   "id": "c1e2b51c",
   "metadata": {},
   "outputs": [
    {
     "data": {
      "text/html": [
       "<div>\n",
       "<style scoped>\n",
       "    .dataframe tbody tr th:only-of-type {\n",
       "        vertical-align: middle;\n",
       "    }\n",
       "\n",
       "    .dataframe tbody tr th {\n",
       "        vertical-align: top;\n",
       "    }\n",
       "\n",
       "    .dataframe thead th {\n",
       "        text-align: right;\n",
       "    }\n",
       "</style>\n",
       "<table border=\"1\" class=\"dataframe\">\n",
       "  <thead>\n",
       "    <tr style=\"text-align: right;\">\n",
       "      <th></th>\n",
       "      <th>No.</th>\n",
       "    </tr>\n",
       "  </thead>\n",
       "  <tbody>\n",
       "    <tr>\n",
       "      <th>count</th>\n",
       "      <td>32.000000</td>\n",
       "    </tr>\n",
       "    <tr>\n",
       "      <th>mean</th>\n",
       "      <td>16.500000</td>\n",
       "    </tr>\n",
       "    <tr>\n",
       "      <th>std</th>\n",
       "      <td>9.380832</td>\n",
       "    </tr>\n",
       "    <tr>\n",
       "      <th>min</th>\n",
       "      <td>1.000000</td>\n",
       "    </tr>\n",
       "    <tr>\n",
       "      <th>25%</th>\n",
       "      <td>8.750000</td>\n",
       "    </tr>\n",
       "    <tr>\n",
       "      <th>50%</th>\n",
       "      <td>16.500000</td>\n",
       "    </tr>\n",
       "    <tr>\n",
       "      <th>75%</th>\n",
       "      <td>24.250000</td>\n",
       "    </tr>\n",
       "    <tr>\n",
       "      <th>max</th>\n",
       "      <td>32.000000</td>\n",
       "    </tr>\n",
       "  </tbody>\n",
       "</table>\n",
       "</div>"
      ],
      "text/plain": [
       "             No.\n",
       "count  32.000000\n",
       "mean   16.500000\n",
       "std     9.380832\n",
       "min     1.000000\n",
       "25%     8.750000\n",
       "50%    16.500000\n",
       "75%    24.250000\n",
       "max    32.000000"
      ]
     },
     "execution_count": 6,
     "metadata": {},
     "output_type": "execute_result"
    }
   ],
   "source": [
    "season1.describe()"
   ]
  },
  {
   "cell_type": "code",
   "execution_count": 8,
   "id": "7d3eeb2b",
   "metadata": {},
   "outputs": [
    {
     "name": "stdout",
     "output_type": "stream",
     "text": [
      "<class 'pandas.core.frame.DataFrame'>\n",
      "RangeIndex: 32 entries, 0 to 31\n",
      "Data columns (total 6 columns):\n",
      " #   Column             Non-Null Count  Dtype \n",
      "---  ------             --------------  ----- \n",
      " 0   No.                32 non-null     int64 \n",
      " 1   Title              32 non-null     object\n",
      " 2   Directed by        32 non-null     object\n",
      " 3   Written by         32 non-null     object\n",
      " 4   Original air date  32 non-null     object\n",
      " 5   English air date   32 non-null     object\n",
      "dtypes: int64(1), object(5)\n",
      "memory usage: 1.6+ KB\n"
     ]
    }
   ],
   "source": [
    "season1.info()"
   ]
  },
  {
   "cell_type": "code",
   "execution_count": null,
   "id": "239c5327",
   "metadata": {},
   "outputs": [],
   "source": []
  }
 ],
 "metadata": {
  "kernelspec": {
   "display_name": "Python 3 (ipykernel)",
   "language": "python",
   "name": "python3"
  },
  "language_info": {
   "codemirror_mode": {
    "name": "ipython",
    "version": 3
   },
   "file_extension": ".py",
   "mimetype": "text/x-python",
   "name": "python",
   "nbconvert_exporter": "python",
   "pygments_lexer": "ipython3",
   "version": "3.9.4"
  }
 },
 "nbformat": 4,
 "nbformat_minor": 5
}
